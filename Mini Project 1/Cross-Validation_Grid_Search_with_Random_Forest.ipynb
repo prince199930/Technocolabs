{
 "cells": [
  {
   "cell_type": "markdown",
   "metadata": {},
   "source": [
    "**Run the following two cells before you begin.**"
   ]
  },
  {
   "cell_type": "code",
   "execution_count": 1,
   "metadata": {},
   "outputs": [
    {
     "data": {
      "application/javascript": [
       "IPython.notebook.set_autosave_interval(100000)"
      ]
     },
     "metadata": {},
     "output_type": "display_data"
    },
    {
     "name": "stdout",
     "output_type": "stream",
     "text": [
      "Autosaving every 100 seconds\n"
     ]
    }
   ],
   "source": [
    "%autosave 100"
   ]
  },
  {
   "cell_type": "code",
   "execution_count": 2,
   "metadata": {},
   "outputs": [],
   "source": [
    "import pandas as pd\n",
    "import numpy as np\n",
    "import matplotlib.pyplot as plt\n",
    "\n",
    "%matplotlib inline\n",
    "\n",
    "df = pd.read_csv('cleaned_data.csv')"
   ]
  },
  {
   "cell_type": "markdown",
   "metadata": {},
   "source": [
    "**Run the following 3 cells to create a list of features, create a train/test split, and instantiate a random forest classifier.**"
   ]
  },
  {
   "cell_type": "code",
   "execution_count": 3,
   "metadata": {},
   "outputs": [
    {
     "data": {
      "text/plain": [
       "['LIMIT_BAL',\n",
       " 'EDUCATION',\n",
       " 'MARRIAGE',\n",
       " 'AGE',\n",
       " 'PAY_1',\n",
       " 'BILL_AMT1',\n",
       " 'BILL_AMT2',\n",
       " 'BILL_AMT3',\n",
       " 'BILL_AMT4',\n",
       " 'BILL_AMT5',\n",
       " 'BILL_AMT6',\n",
       " 'PAY_AMT1',\n",
       " 'PAY_AMT2',\n",
       " 'PAY_AMT3',\n",
       " 'PAY_AMT4',\n",
       " 'PAY_AMT5',\n",
       " 'PAY_AMT6',\n",
       " 'default payment next month']"
      ]
     },
     "execution_count": 3,
     "metadata": {},
     "output_type": "execute_result"
    }
   ],
   "source": [
    "features_response = df.columns.tolist()\n",
    "items_to_remove = ['ID', 'SEX', 'PAY_2', 'PAY_3', 'PAY_4', 'PAY_5', 'PAY_6',\n",
    "                   'EDUCATION_CAT', 'graduate school', 'high school', 'none',\n",
    "                   'others', 'university']\n",
    "features_response = [item for item in features_response if item not in items_to_remove]\n",
    "features_response"
   ]
  },
  {
   "cell_type": "code",
   "execution_count": 4,
   "metadata": {},
   "outputs": [],
   "source": [
    "from sklearn.model_selection import train_test_split\n",
    "\n",
    "X_train, X_test, y_train, y_test = train_test_split(\n",
    "    df[features_response[:-1]].values,\n",
    "    df['default payment next month'].values,\n",
    "    test_size=0.2, random_state=24\n",
    ")"
   ]
  },
  {
   "cell_type": "code",
   "execution_count": 5,
   "metadata": {},
   "outputs": [],
   "source": [
    "from sklearn.ensemble import RandomForestClassifier\n",
    "\n",
    "rf = RandomForestClassifier(\n",
    "    n_estimators=10, criterion='gini', max_depth=3,\n",
    "    min_samples_split=2, min_samples_leaf=1, min_weight_fraction_leaf=0.0,\n",
    "    max_features='auto', max_leaf_nodes=None, min_impurity_decrease=0.0,\n",
    "    min_impurity_split=None, bootstrap=True, oob_score=False, n_jobs=None,\n",
    "    random_state=4, verbose=0, warm_start=False, class_weight=None\n",
    ")"
   ]
  },
  {
   "cell_type": "markdown",
   "metadata": {},
   "source": [
    "**Create a dictionary representing the grid for the `max_depth` and `n_estimators` hyperparameters that will be searched. Include depths of 3, 6, 9, and 12, and 10, 50, 100, and 200 trees.**"
   ]
  },
  {
   "cell_type": "code",
   "execution_count": 6,
   "metadata": {},
   "outputs": [],
   "source": [
    "grid={'max_depth':[3,6,9,12],'n_estimators':[10,50,100,200]}"
   ]
  },
  {
   "cell_type": "markdown",
   "metadata": {},
   "source": [
    "________________________________________________________________\n",
    "**Instantiate a `GridSearchCV` object using the same options that we have previously in this course, but with the dictionary of hyperparameters created above. Set `verbose=2` to see the output for each fit performed.**"
   ]
  },
  {
   "cell_type": "code",
   "execution_count": 7,
   "metadata": {},
   "outputs": [],
   "source": [
    "from sklearn.model_selection import GridSearchCV"
   ]
  },
  {
   "cell_type": "code",
   "execution_count": 8,
   "metadata": {},
   "outputs": [],
   "source": [
    "grid_search=GridSearchCV(estimator=rf,param_grid=grid,verbose=2)"
   ]
  },
  {
   "cell_type": "markdown",
   "metadata": {},
   "source": [
    "____________________________________________________\n",
    "**Fit the `GridSearchCV` object on the training data.**"
   ]
  },
  {
   "cell_type": "code",
   "execution_count": 9,
   "metadata": {
    "scrolled": true
   },
   "outputs": [
    {
     "name": "stdout",
     "output_type": "stream",
     "text": [
      "Fitting 5 folds for each of 16 candidates, totalling 80 fits\n",
      "[CV] max_depth=3, n_estimators=10 ....................................\n"
     ]
    },
    {
     "name": "stderr",
     "output_type": "stream",
     "text": [
      "[Parallel(n_jobs=1)]: Using backend SequentialBackend with 1 concurrent workers.\n"
     ]
    },
    {
     "name": "stdout",
     "output_type": "stream",
     "text": [
      "[CV] ..................... max_depth=3, n_estimators=10, total=   0.3s\n",
      "[CV] max_depth=3, n_estimators=10 ....................................\n"
     ]
    },
    {
     "name": "stderr",
     "output_type": "stream",
     "text": [
      "[Parallel(n_jobs=1)]: Done   1 out of   1 | elapsed:    0.3s remaining:    0.0s\n"
     ]
    },
    {
     "name": "stdout",
     "output_type": "stream",
     "text": [
      "[CV] ..................... max_depth=3, n_estimators=10, total=   0.3s\n",
      "[CV] max_depth=3, n_estimators=10 ....................................\n",
      "[CV] ..................... max_depth=3, n_estimators=10, total=   0.3s\n",
      "[CV] max_depth=3, n_estimators=10 ....................................\n",
      "[CV] ..................... max_depth=3, n_estimators=10, total=   0.3s\n",
      "[CV] max_depth=3, n_estimators=10 ....................................\n",
      "[CV] ..................... max_depth=3, n_estimators=10, total=   0.3s\n",
      "[CV] max_depth=3, n_estimators=50 ....................................\n",
      "[CV] ..................... max_depth=3, n_estimators=50, total=   1.5s\n",
      "[CV] max_depth=3, n_estimators=50 ....................................\n",
      "[CV] ..................... max_depth=3, n_estimators=50, total=   2.4s\n",
      "[CV] max_depth=3, n_estimators=50 ....................................\n",
      "[CV] ..................... max_depth=3, n_estimators=50, total=   2.2s\n",
      "[CV] max_depth=3, n_estimators=50 ....................................\n",
      "[CV] ..................... max_depth=3, n_estimators=50, total=   2.3s\n",
      "[CV] max_depth=3, n_estimators=50 ....................................\n",
      "[CV] ..................... max_depth=3, n_estimators=50, total=   2.0s\n",
      "[CV] max_depth=3, n_estimators=100 ...................................\n",
      "[CV] .................... max_depth=3, n_estimators=100, total=   4.0s\n",
      "[CV] max_depth=3, n_estimators=100 ...................................\n",
      "[CV] .................... max_depth=3, n_estimators=100, total=   3.6s\n",
      "[CV] max_depth=3, n_estimators=100 ...................................\n",
      "[CV] .................... max_depth=3, n_estimators=100, total=   3.8s\n",
      "[CV] max_depth=3, n_estimators=100 ...................................\n",
      "[CV] .................... max_depth=3, n_estimators=100, total=   3.7s\n",
      "[CV] max_depth=3, n_estimators=100 ...................................\n",
      "[CV] .................... max_depth=3, n_estimators=100, total=   3.9s\n",
      "[CV] max_depth=3, n_estimators=200 ...................................\n",
      "[CV] .................... max_depth=3, n_estimators=200, total=   9.0s\n",
      "[CV] max_depth=3, n_estimators=200 ...................................\n",
      "[CV] .................... max_depth=3, n_estimators=200, total=   9.4s\n",
      "[CV] max_depth=3, n_estimators=200 ...................................\n",
      "[CV] .................... max_depth=3, n_estimators=200, total=   7.3s\n",
      "[CV] max_depth=3, n_estimators=200 ...................................\n",
      "[CV] .................... max_depth=3, n_estimators=200, total=   5.9s\n",
      "[CV] max_depth=3, n_estimators=200 ...................................\n",
      "[CV] .................... max_depth=3, n_estimators=200, total=   6.5s\n",
      "[CV] max_depth=6, n_estimators=10 ....................................\n",
      "[CV] ..................... max_depth=6, n_estimators=10, total=   0.6s\n",
      "[CV] max_depth=6, n_estimators=10 ....................................\n",
      "[CV] ..................... max_depth=6, n_estimators=10, total=   0.5s\n",
      "[CV] max_depth=6, n_estimators=10 ....................................\n",
      "[CV] ..................... max_depth=6, n_estimators=10, total=   0.5s\n",
      "[CV] max_depth=6, n_estimators=10 ....................................\n",
      "[CV] ..................... max_depth=6, n_estimators=10, total=   0.5s\n",
      "[CV] max_depth=6, n_estimators=10 ....................................\n",
      "[CV] ..................... max_depth=6, n_estimators=10, total=   0.5s\n",
      "[CV] max_depth=6, n_estimators=50 ....................................\n",
      "[CV] ..................... max_depth=6, n_estimators=50, total=   2.8s\n",
      "[CV] max_depth=6, n_estimators=50 ....................................\n",
      "[CV] ..................... max_depth=6, n_estimators=50, total=   3.5s\n",
      "[CV] max_depth=6, n_estimators=50 ....................................\n",
      "[CV] ..................... max_depth=6, n_estimators=50, total=   2.7s\n",
      "[CV] max_depth=6, n_estimators=50 ....................................\n",
      "[CV] ..................... max_depth=6, n_estimators=50, total=   3.1s\n",
      "[CV] max_depth=6, n_estimators=50 ....................................\n",
      "[CV] ..................... max_depth=6, n_estimators=50, total=   2.6s\n",
      "[CV] max_depth=6, n_estimators=100 ...................................\n",
      "[CV] .................... max_depth=6, n_estimators=100, total=   5.4s\n",
      "[CV] max_depth=6, n_estimators=100 ...................................\n",
      "[CV] .................... max_depth=6, n_estimators=100, total=   5.8s\n",
      "[CV] max_depth=6, n_estimators=100 ...................................\n",
      "[CV] .................... max_depth=6, n_estimators=100, total=   5.2s\n",
      "[CV] max_depth=6, n_estimators=100 ...................................\n",
      "[CV] .................... max_depth=6, n_estimators=100, total=   4.7s\n",
      "[CV] max_depth=6, n_estimators=100 ...................................\n",
      "[CV] .................... max_depth=6, n_estimators=100, total=   4.0s\n",
      "[CV] max_depth=6, n_estimators=200 ...................................\n",
      "[CV] .................... max_depth=6, n_estimators=200, total=  10.0s\n",
      "[CV] max_depth=6, n_estimators=200 ...................................\n",
      "[CV] .................... max_depth=6, n_estimators=200, total=  11.0s\n",
      "[CV] max_depth=6, n_estimators=200 ...................................\n",
      "[CV] .................... max_depth=6, n_estimators=200, total=   7.9s\n",
      "[CV] max_depth=6, n_estimators=200 ...................................\n",
      "[CV] .................... max_depth=6, n_estimators=200, total=  12.6s\n",
      "[CV] max_depth=6, n_estimators=200 ...................................\n",
      "[CV] .................... max_depth=6, n_estimators=200, total=  12.7s\n",
      "[CV] max_depth=9, n_estimators=10 ....................................\n",
      "[CV] ..................... max_depth=9, n_estimators=10, total=   0.7s\n",
      "[CV] max_depth=9, n_estimators=10 ....................................\n",
      "[CV] ..................... max_depth=9, n_estimators=10, total=   0.8s\n",
      "[CV] max_depth=9, n_estimators=10 ....................................\n",
      "[CV] ..................... max_depth=9, n_estimators=10, total=   0.7s\n",
      "[CV] max_depth=9, n_estimators=10 ....................................\n",
      "[CV] ..................... max_depth=9, n_estimators=10, total=   0.7s\n",
      "[CV] max_depth=9, n_estimators=10 ....................................\n",
      "[CV] ..................... max_depth=9, n_estimators=10, total=   0.7s\n",
      "[CV] max_depth=9, n_estimators=50 ....................................\n",
      "[CV] ..................... max_depth=9, n_estimators=50, total=   3.0s\n",
      "[CV] max_depth=9, n_estimators=50 ....................................\n",
      "[CV] ..................... max_depth=9, n_estimators=50, total=   2.9s\n",
      "[CV] max_depth=9, n_estimators=50 ....................................\n",
      "[CV] ..................... max_depth=9, n_estimators=50, total=   2.5s\n",
      "[CV] max_depth=9, n_estimators=50 ....................................\n",
      "[CV] ..................... max_depth=9, n_estimators=50, total=   2.6s\n",
      "[CV] max_depth=9, n_estimators=50 ....................................\n",
      "[CV] ..................... max_depth=9, n_estimators=50, total=   2.5s\n",
      "[CV] max_depth=9, n_estimators=100 ...................................\n",
      "[CV] .................... max_depth=9, n_estimators=100, total=   5.7s\n",
      "[CV] max_depth=9, n_estimators=100 ...................................\n",
      "[CV] .................... max_depth=9, n_estimators=100, total=   5.6s\n",
      "[CV] max_depth=9, n_estimators=100 ...................................\n",
      "[CV] .................... max_depth=9, n_estimators=100, total=   6.0s\n",
      "[CV] max_depth=9, n_estimators=100 ...................................\n",
      "[CV] .................... max_depth=9, n_estimators=100, total=   5.9s\n",
      "[CV] max_depth=9, n_estimators=100 ...................................\n",
      "[CV] .................... max_depth=9, n_estimators=100, total=   5.1s\n",
      "[CV] max_depth=9, n_estimators=200 ...................................\n",
      "[CV] .................... max_depth=9, n_estimators=200, total=  11.7s\n",
      "[CV] max_depth=9, n_estimators=200 ...................................\n",
      "[CV] .................... max_depth=9, n_estimators=200, total=  11.8s\n",
      "[CV] max_depth=9, n_estimators=200 ...................................\n",
      "[CV] .................... max_depth=9, n_estimators=200, total=  11.7s\n",
      "[CV] max_depth=9, n_estimators=200 ...................................\n",
      "[CV] .................... max_depth=9, n_estimators=200, total=  10.9s\n",
      "[CV] max_depth=9, n_estimators=200 ...................................\n"
     ]
    },
    {
     "name": "stdout",
     "output_type": "stream",
     "text": [
      "[CV] .................... max_depth=9, n_estimators=200, total=   9.8s\n",
      "[CV] max_depth=12, n_estimators=10 ...................................\n",
      "[CV] .................... max_depth=12, n_estimators=10, total=   0.8s\n",
      "[CV] max_depth=12, n_estimators=10 ...................................\n",
      "[CV] .................... max_depth=12, n_estimators=10, total=   0.7s\n",
      "[CV] max_depth=12, n_estimators=10 ...................................\n",
      "[CV] .................... max_depth=12, n_estimators=10, total=   0.8s\n",
      "[CV] max_depth=12, n_estimators=10 ...................................\n",
      "[CV] .................... max_depth=12, n_estimators=10, total=   0.8s\n",
      "[CV] max_depth=12, n_estimators=10 ...................................\n",
      "[CV] .................... max_depth=12, n_estimators=10, total=   0.7s\n",
      "[CV] max_depth=12, n_estimators=50 ...................................\n",
      "[CV] .................... max_depth=12, n_estimators=50, total=   3.9s\n",
      "[CV] max_depth=12, n_estimators=50 ...................................\n",
      "[CV] .................... max_depth=12, n_estimators=50, total=   3.3s\n",
      "[CV] max_depth=12, n_estimators=50 ...................................\n",
      "[CV] .................... max_depth=12, n_estimators=50, total=   3.6s\n",
      "[CV] max_depth=12, n_estimators=50 ...................................\n",
      "[CV] .................... max_depth=12, n_estimators=50, total=   3.8s\n",
      "[CV] max_depth=12, n_estimators=50 ...................................\n",
      "[CV] .................... max_depth=12, n_estimators=50, total=   5.1s\n",
      "[CV] max_depth=12, n_estimators=100 ..................................\n",
      "[CV] ................... max_depth=12, n_estimators=100, total=  10.7s\n",
      "[CV] max_depth=12, n_estimators=100 ..................................\n",
      "[CV] ................... max_depth=12, n_estimators=100, total=  10.6s\n",
      "[CV] max_depth=12, n_estimators=100 ..................................\n",
      "[CV] ................... max_depth=12, n_estimators=100, total=   8.0s\n",
      "[CV] max_depth=12, n_estimators=100 ..................................\n",
      "[CV] ................... max_depth=12, n_estimators=100, total=   6.4s\n",
      "[CV] max_depth=12, n_estimators=100 ..................................\n",
      "[CV] ................... max_depth=12, n_estimators=100, total=  10.0s\n",
      "[CV] max_depth=12, n_estimators=200 ..................................\n",
      "[CV] ................... max_depth=12, n_estimators=200, total=  14.2s\n",
      "[CV] max_depth=12, n_estimators=200 ..................................\n",
      "[CV] ................... max_depth=12, n_estimators=200, total=  13.2s\n",
      "[CV] max_depth=12, n_estimators=200 ..................................\n",
      "[CV] ................... max_depth=12, n_estimators=200, total=  11.2s\n",
      "[CV] max_depth=12, n_estimators=200 ..................................\n",
      "[CV] ................... max_depth=12, n_estimators=200, total=  12.4s\n",
      "[CV] max_depth=12, n_estimators=200 ..................................\n",
      "[CV] ................... max_depth=12, n_estimators=200, total=  11.4s\n"
     ]
    },
    {
     "name": "stderr",
     "output_type": "stream",
     "text": [
      "[Parallel(n_jobs=1)]: Done  80 out of  80 | elapsed:  6.6min finished\n"
     ]
    },
    {
     "data": {
      "text/plain": [
       "GridSearchCV(cv=None, error_score=nan,\n",
       "             estimator=RandomForestClassifier(bootstrap=True, ccp_alpha=0.0,\n",
       "                                              class_weight=None,\n",
       "                                              criterion='gini', max_depth=3,\n",
       "                                              max_features='auto',\n",
       "                                              max_leaf_nodes=None,\n",
       "                                              max_samples=None,\n",
       "                                              min_impurity_decrease=0.0,\n",
       "                                              min_impurity_split=None,\n",
       "                                              min_samples_leaf=1,\n",
       "                                              min_samples_split=2,\n",
       "                                              min_weight_fraction_leaf=0.0,\n",
       "                                              n_estimators=10, n_jobs=None,\n",
       "                                              oob_score=False, random_state=4,\n",
       "                                              verbose=0, warm_start=False),\n",
       "             iid='deprecated', n_jobs=None,\n",
       "             param_grid={'max_depth': [3, 6, 9, 12],\n",
       "                         'n_estimators': [10, 50, 100, 200]},\n",
       "             pre_dispatch='2*n_jobs', refit=True, return_train_score=False,\n",
       "             scoring=None, verbose=2)"
      ]
     },
     "execution_count": 9,
     "metadata": {},
     "output_type": "execute_result"
    }
   ],
   "source": [
    "grid_search.fit(X_train,y_train)"
   ]
  },
  {
   "cell_type": "markdown",
   "metadata": {},
   "source": [
    "___________________________________________________________\n",
    "**Put the results of the grid search in a pandas DataFrame.**"
   ]
  },
  {
   "cell_type": "code",
   "execution_count": 10,
   "metadata": {
    "scrolled": true
   },
   "outputs": [
    {
     "data": {
      "text/html": [
       "<div>\n",
       "<style scoped>\n",
       "    .dataframe tbody tr th:only-of-type {\n",
       "        vertical-align: middle;\n",
       "    }\n",
       "\n",
       "    .dataframe tbody tr th {\n",
       "        vertical-align: top;\n",
       "    }\n",
       "\n",
       "    .dataframe thead th {\n",
       "        text-align: right;\n",
       "    }\n",
       "</style>\n",
       "<table border=\"1\" class=\"dataframe\">\n",
       "  <thead>\n",
       "    <tr style=\"text-align: right;\">\n",
       "      <th></th>\n",
       "      <th>mean_fit_time</th>\n",
       "      <th>std_fit_time</th>\n",
       "      <th>mean_score_time</th>\n",
       "      <th>std_score_time</th>\n",
       "      <th>param_max_depth</th>\n",
       "      <th>param_n_estimators</th>\n",
       "      <th>params</th>\n",
       "      <th>split0_test_score</th>\n",
       "      <th>split1_test_score</th>\n",
       "      <th>split2_test_score</th>\n",
       "      <th>split3_test_score</th>\n",
       "      <th>split4_test_score</th>\n",
       "      <th>mean_test_score</th>\n",
       "      <th>std_test_score</th>\n",
       "      <th>rank_test_score</th>\n",
       "    </tr>\n",
       "  </thead>\n",
       "  <tbody>\n",
       "    <tr>\n",
       "      <th>0</th>\n",
       "      <td>0.308169</td>\n",
       "      <td>0.011167</td>\n",
       "      <td>0.011501</td>\n",
       "      <td>0.006652</td>\n",
       "      <td>3</td>\n",
       "      <td>10</td>\n",
       "      <td>{'max_depth': 3, 'n_estimators': 10}</td>\n",
       "      <td>0.814390</td>\n",
       "      <td>0.819269</td>\n",
       "      <td>0.816925</td>\n",
       "      <td>0.824426</td>\n",
       "      <td>0.815284</td>\n",
       "      <td>0.818058</td>\n",
       "      <td>0.003590</td>\n",
       "      <td>11</td>\n",
       "    </tr>\n",
       "    <tr>\n",
       "      <th>1</th>\n",
       "      <td>1.995984</td>\n",
       "      <td>0.300266</td>\n",
       "      <td>0.081898</td>\n",
       "      <td>0.037171</td>\n",
       "      <td>3</td>\n",
       "      <td>50</td>\n",
       "      <td>{'max_depth': 3, 'n_estimators': 50}</td>\n",
       "      <td>0.812046</td>\n",
       "      <td>0.815284</td>\n",
       "      <td>0.814346</td>\n",
       "      <td>0.820206</td>\n",
       "      <td>0.813408</td>\n",
       "      <td>0.815058</td>\n",
       "      <td>0.002788</td>\n",
       "      <td>15</td>\n",
       "    </tr>\n",
       "    <tr>\n",
       "      <th>2</th>\n",
       "      <td>3.691557</td>\n",
       "      <td>0.141660</td>\n",
       "      <td>0.097079</td>\n",
       "      <td>0.010493</td>\n",
       "      <td>3</td>\n",
       "      <td>100</td>\n",
       "      <td>{'max_depth': 3, 'n_estimators': 100}</td>\n",
       "      <td>0.810640</td>\n",
       "      <td>0.812705</td>\n",
       "      <td>0.813408</td>\n",
       "      <td>0.820441</td>\n",
       "      <td>0.810830</td>\n",
       "      <td>0.813605</td>\n",
       "      <td>0.003580</td>\n",
       "      <td>16</td>\n",
       "    </tr>\n",
       "    <tr>\n",
       "      <th>3</th>\n",
       "      <td>7.439637</td>\n",
       "      <td>1.331746</td>\n",
       "      <td>0.189395</td>\n",
       "      <td>0.051846</td>\n",
       "      <td>3</td>\n",
       "      <td>200</td>\n",
       "      <td>{'max_depth': 3, 'n_estimators': 200}</td>\n",
       "      <td>0.811577</td>\n",
       "      <td>0.815518</td>\n",
       "      <td>0.814346</td>\n",
       "      <td>0.821378</td>\n",
       "      <td>0.813408</td>\n",
       "      <td>0.815246</td>\n",
       "      <td>0.003326</td>\n",
       "      <td>14</td>\n",
       "    </tr>\n",
       "    <tr>\n",
       "      <th>4</th>\n",
       "      <td>0.496698</td>\n",
       "      <td>0.038227</td>\n",
       "      <td>0.012386</td>\n",
       "      <td>0.005603</td>\n",
       "      <td>6</td>\n",
       "      <td>10</td>\n",
       "      <td>{'max_depth': 6, 'n_estimators': 10}</td>\n",
       "      <td>0.814390</td>\n",
       "      <td>0.818565</td>\n",
       "      <td>0.819972</td>\n",
       "      <td>0.826301</td>\n",
       "      <td>0.819503</td>\n",
       "      <td>0.819746</td>\n",
       "      <td>0.003825</td>\n",
       "      <td>10</td>\n",
       "    </tr>\n",
       "    <tr>\n",
       "      <th>5</th>\n",
       "      <td>2.899903</td>\n",
       "      <td>0.316775</td>\n",
       "      <td>0.054711</td>\n",
       "      <td>0.010594</td>\n",
       "      <td>6</td>\n",
       "      <td>50</td>\n",
       "      <td>{'max_depth': 6, 'n_estimators': 50}</td>\n",
       "      <td>0.815561</td>\n",
       "      <td>0.819034</td>\n",
       "      <td>0.819737</td>\n",
       "      <td>0.826067</td>\n",
       "      <td>0.820206</td>\n",
       "      <td>0.820121</td>\n",
       "      <td>0.003390</td>\n",
       "      <td>8</td>\n",
       "    </tr>\n",
       "    <tr>\n",
       "      <th>6</th>\n",
       "      <td>4.921972</td>\n",
       "      <td>0.590931</td>\n",
       "      <td>0.079895</td>\n",
       "      <td>0.028591</td>\n",
       "      <td>6</td>\n",
       "      <td>100</td>\n",
       "      <td>{'max_depth': 6, 'n_estimators': 100}</td>\n",
       "      <td>0.815796</td>\n",
       "      <td>0.819972</td>\n",
       "      <td>0.819503</td>\n",
       "      <td>0.827004</td>\n",
       "      <td>0.820206</td>\n",
       "      <td>0.820496</td>\n",
       "      <td>0.003628</td>\n",
       "      <td>3</td>\n",
       "    </tr>\n",
       "    <tr>\n",
       "      <th>7</th>\n",
       "      <td>10.643579</td>\n",
       "      <td>1.777042</td>\n",
       "      <td>0.203178</td>\n",
       "      <td>0.070642</td>\n",
       "      <td>6</td>\n",
       "      <td>200</td>\n",
       "      <td>{'max_depth': 6, 'n_estimators': 200}</td>\n",
       "      <td>0.815796</td>\n",
       "      <td>0.819972</td>\n",
       "      <td>0.819269</td>\n",
       "      <td>0.826770</td>\n",
       "      <td>0.820675</td>\n",
       "      <td>0.820496</td>\n",
       "      <td>0.003557</td>\n",
       "      <td>3</td>\n",
       "    </tr>\n",
       "    <tr>\n",
       "      <th>8</th>\n",
       "      <td>0.729387</td>\n",
       "      <td>0.032766</td>\n",
       "      <td>0.013859</td>\n",
       "      <td>0.004260</td>\n",
       "      <td>9</td>\n",
       "      <td>10</td>\n",
       "      <td>{'max_depth': 9, 'n_estimators': 10}</td>\n",
       "      <td>0.809702</td>\n",
       "      <td>0.815987</td>\n",
       "      <td>0.819972</td>\n",
       "      <td>0.824895</td>\n",
       "      <td>0.816221</td>\n",
       "      <td>0.817355</td>\n",
       "      <td>0.005008</td>\n",
       "      <td>12</td>\n",
       "    </tr>\n",
       "    <tr>\n",
       "      <th>9</th>\n",
       "      <td>2.651019</td>\n",
       "      <td>0.181928</td>\n",
       "      <td>0.048108</td>\n",
       "      <td>0.010256</td>\n",
       "      <td>9</td>\n",
       "      <td>50</td>\n",
       "      <td>{'max_depth': 9, 'n_estimators': 50}</td>\n",
       "      <td>0.815796</td>\n",
       "      <td>0.818565</td>\n",
       "      <td>0.819503</td>\n",
       "      <td>0.826301</td>\n",
       "      <td>0.819972</td>\n",
       "      <td>0.820027</td>\n",
       "      <td>0.003455</td>\n",
       "      <td>9</td>\n",
       "    </tr>\n",
       "    <tr>\n",
       "      <th>10</th>\n",
       "      <td>5.548319</td>\n",
       "      <td>0.290573</td>\n",
       "      <td>0.096295</td>\n",
       "      <td>0.012860</td>\n",
       "      <td>9</td>\n",
       "      <td>100</td>\n",
       "      <td>{'max_depth': 9, 'n_estimators': 100}</td>\n",
       "      <td>0.816264</td>\n",
       "      <td>0.819503</td>\n",
       "      <td>0.819737</td>\n",
       "      <td>0.826535</td>\n",
       "      <td>0.819269</td>\n",
       "      <td>0.820262</td>\n",
       "      <td>0.003382</td>\n",
       "      <td>7</td>\n",
       "    </tr>\n",
       "    <tr>\n",
       "      <th>11</th>\n",
       "      <td>10.988418</td>\n",
       "      <td>0.722823</td>\n",
       "      <td>0.194158</td>\n",
       "      <td>0.027907</td>\n",
       "      <td>9</td>\n",
       "      <td>200</td>\n",
       "      <td>{'max_depth': 9, 'n_estimators': 200}</td>\n",
       "      <td>0.815327</td>\n",
       "      <td>0.819503</td>\n",
       "      <td>0.819737</td>\n",
       "      <td>0.827473</td>\n",
       "      <td>0.820675</td>\n",
       "      <td>0.820543</td>\n",
       "      <td>0.003924</td>\n",
       "      <td>2</td>\n",
       "    </tr>\n",
       "    <tr>\n",
       "      <th>12</th>\n",
       "      <td>0.747532</td>\n",
       "      <td>0.050406</td>\n",
       "      <td>0.022186</td>\n",
       "      <td>0.008043</td>\n",
       "      <td>12</td>\n",
       "      <td>10</td>\n",
       "      <td>{'max_depth': 12, 'n_estimators': 10}</td>\n",
       "      <td>0.816264</td>\n",
       "      <td>0.814112</td>\n",
       "      <td>0.816690</td>\n",
       "      <td>0.825598</td>\n",
       "      <td>0.813408</td>\n",
       "      <td>0.817214</td>\n",
       "      <td>0.004372</td>\n",
       "      <td>13</td>\n",
       "    </tr>\n",
       "    <tr>\n",
       "      <th>13</th>\n",
       "      <td>3.887147</td>\n",
       "      <td>0.610308</td>\n",
       "      <td>0.071564</td>\n",
       "      <td>0.013963</td>\n",
       "      <td>12</td>\n",
       "      <td>50</td>\n",
       "      <td>{'max_depth': 12, 'n_estimators': 50}</td>\n",
       "      <td>0.817436</td>\n",
       "      <td>0.817862</td>\n",
       "      <td>0.819737</td>\n",
       "      <td>0.827004</td>\n",
       "      <td>0.820441</td>\n",
       "      <td>0.820496</td>\n",
       "      <td>0.003442</td>\n",
       "      <td>6</td>\n",
       "    </tr>\n",
       "    <tr>\n",
       "      <th>14</th>\n",
       "      <td>9.013260</td>\n",
       "      <td>1.667704</td>\n",
       "      <td>0.132883</td>\n",
       "      <td>0.030322</td>\n",
       "      <td>12</td>\n",
       "      <td>100</td>\n",
       "      <td>{'max_depth': 12, 'n_estimators': 100}</td>\n",
       "      <td>0.815796</td>\n",
       "      <td>0.816925</td>\n",
       "      <td>0.820675</td>\n",
       "      <td>0.828645</td>\n",
       "      <td>0.820441</td>\n",
       "      <td>0.820496</td>\n",
       "      <td>0.004501</td>\n",
       "      <td>3</td>\n",
       "    </tr>\n",
       "    <tr>\n",
       "      <th>15</th>\n",
       "      <td>12.286548</td>\n",
       "      <td>1.111901</td>\n",
       "      <td>0.190235</td>\n",
       "      <td>0.028727</td>\n",
       "      <td>12</td>\n",
       "      <td>200</td>\n",
       "      <td>{'max_depth': 12, 'n_estimators': 200}</td>\n",
       "      <td>0.816967</td>\n",
       "      <td>0.817862</td>\n",
       "      <td>0.821613</td>\n",
       "      <td>0.828411</td>\n",
       "      <td>0.819034</td>\n",
       "      <td>0.820777</td>\n",
       "      <td>0.004124</td>\n",
       "      <td>1</td>\n",
       "    </tr>\n",
       "  </tbody>\n",
       "</table>\n",
       "</div>"
      ],
      "text/plain": [
       "    mean_fit_time  std_fit_time  mean_score_time  std_score_time  \\\n",
       "0        0.308169      0.011167         0.011501        0.006652   \n",
       "1        1.995984      0.300266         0.081898        0.037171   \n",
       "2        3.691557      0.141660         0.097079        0.010493   \n",
       "3        7.439637      1.331746         0.189395        0.051846   \n",
       "4        0.496698      0.038227         0.012386        0.005603   \n",
       "5        2.899903      0.316775         0.054711        0.010594   \n",
       "6        4.921972      0.590931         0.079895        0.028591   \n",
       "7       10.643579      1.777042         0.203178        0.070642   \n",
       "8        0.729387      0.032766         0.013859        0.004260   \n",
       "9        2.651019      0.181928         0.048108        0.010256   \n",
       "10       5.548319      0.290573         0.096295        0.012860   \n",
       "11      10.988418      0.722823         0.194158        0.027907   \n",
       "12       0.747532      0.050406         0.022186        0.008043   \n",
       "13       3.887147      0.610308         0.071564        0.013963   \n",
       "14       9.013260      1.667704         0.132883        0.030322   \n",
       "15      12.286548      1.111901         0.190235        0.028727   \n",
       "\n",
       "   param_max_depth param_n_estimators                                  params  \\\n",
       "0                3                 10    {'max_depth': 3, 'n_estimators': 10}   \n",
       "1                3                 50    {'max_depth': 3, 'n_estimators': 50}   \n",
       "2                3                100   {'max_depth': 3, 'n_estimators': 100}   \n",
       "3                3                200   {'max_depth': 3, 'n_estimators': 200}   \n",
       "4                6                 10    {'max_depth': 6, 'n_estimators': 10}   \n",
       "5                6                 50    {'max_depth': 6, 'n_estimators': 50}   \n",
       "6                6                100   {'max_depth': 6, 'n_estimators': 100}   \n",
       "7                6                200   {'max_depth': 6, 'n_estimators': 200}   \n",
       "8                9                 10    {'max_depth': 9, 'n_estimators': 10}   \n",
       "9                9                 50    {'max_depth': 9, 'n_estimators': 50}   \n",
       "10               9                100   {'max_depth': 9, 'n_estimators': 100}   \n",
       "11               9                200   {'max_depth': 9, 'n_estimators': 200}   \n",
       "12              12                 10   {'max_depth': 12, 'n_estimators': 10}   \n",
       "13              12                 50   {'max_depth': 12, 'n_estimators': 50}   \n",
       "14              12                100  {'max_depth': 12, 'n_estimators': 100}   \n",
       "15              12                200  {'max_depth': 12, 'n_estimators': 200}   \n",
       "\n",
       "    split0_test_score  split1_test_score  split2_test_score  \\\n",
       "0            0.814390           0.819269           0.816925   \n",
       "1            0.812046           0.815284           0.814346   \n",
       "2            0.810640           0.812705           0.813408   \n",
       "3            0.811577           0.815518           0.814346   \n",
       "4            0.814390           0.818565           0.819972   \n",
       "5            0.815561           0.819034           0.819737   \n",
       "6            0.815796           0.819972           0.819503   \n",
       "7            0.815796           0.819972           0.819269   \n",
       "8            0.809702           0.815987           0.819972   \n",
       "9            0.815796           0.818565           0.819503   \n",
       "10           0.816264           0.819503           0.819737   \n",
       "11           0.815327           0.819503           0.819737   \n",
       "12           0.816264           0.814112           0.816690   \n",
       "13           0.817436           0.817862           0.819737   \n",
       "14           0.815796           0.816925           0.820675   \n",
       "15           0.816967           0.817862           0.821613   \n",
       "\n",
       "    split3_test_score  split4_test_score  mean_test_score  std_test_score  \\\n",
       "0            0.824426           0.815284         0.818058        0.003590   \n",
       "1            0.820206           0.813408         0.815058        0.002788   \n",
       "2            0.820441           0.810830         0.813605        0.003580   \n",
       "3            0.821378           0.813408         0.815246        0.003326   \n",
       "4            0.826301           0.819503         0.819746        0.003825   \n",
       "5            0.826067           0.820206         0.820121        0.003390   \n",
       "6            0.827004           0.820206         0.820496        0.003628   \n",
       "7            0.826770           0.820675         0.820496        0.003557   \n",
       "8            0.824895           0.816221         0.817355        0.005008   \n",
       "9            0.826301           0.819972         0.820027        0.003455   \n",
       "10           0.826535           0.819269         0.820262        0.003382   \n",
       "11           0.827473           0.820675         0.820543        0.003924   \n",
       "12           0.825598           0.813408         0.817214        0.004372   \n",
       "13           0.827004           0.820441         0.820496        0.003442   \n",
       "14           0.828645           0.820441         0.820496        0.004501   \n",
       "15           0.828411           0.819034         0.820777        0.004124   \n",
       "\n",
       "    rank_test_score  \n",
       "0                11  \n",
       "1                15  \n",
       "2                16  \n",
       "3                14  \n",
       "4                10  \n",
       "5                 8  \n",
       "6                 3  \n",
       "7                 3  \n",
       "8                12  \n",
       "9                 9  \n",
       "10                7  \n",
       "11                2  \n",
       "12               13  \n",
       "13                6  \n",
       "14                3  \n",
       "15                1  "
      ]
     },
     "execution_count": 10,
     "metadata": {},
     "output_type": "execute_result"
    }
   ],
   "source": [
    "pd.DataFrame(grid_search.cv_results_)"
   ]
  },
  {
   "cell_type": "markdown",
   "metadata": {},
   "source": [
    "**Find the best hyperparameters from the cross-validation.**"
   ]
  },
  {
   "cell_type": "code",
   "execution_count": 11,
   "metadata": {},
   "outputs": [
    {
     "data": {
      "text/plain": [
       "{'max_depth': 12, 'n_estimators': 200}"
      ]
     },
     "execution_count": 11,
     "metadata": {},
     "output_type": "execute_result"
    }
   ],
   "source": [
    "grid_search.best_params_"
   ]
  },
  {
   "cell_type": "code",
   "execution_count": 12,
   "metadata": {},
   "outputs": [
    {
     "data": {
      "text/plain": [
       "array([[0.8180584 , 0.81505804, 0.81360475, 0.81524559],\n",
       "       [0.81974616, 0.82012116, 0.82049621, 0.82049621],\n",
       "       [0.81735538, 0.82002739, 0.82026178, 0.82054312],\n",
       "       [0.81721443, 0.82049614, 0.82049621, 0.82077745]])"
      ]
     },
     "execution_count": 12,
     "metadata": {},
     "output_type": "execute_result"
    }
   ],
   "source": [
    "grid_search.cv_results_['mean_test_score'].reshape(4,4)"
   ]
  },
  {
   "cell_type": "markdown",
   "metadata": {},
   "source": [
    "________________________________________________________________________________________________________\n",
    "**Create a `pcolormesh` visualization of the mean testing score for each combination of hyperparameters.**\n",
    "\n",
    "<details>\n",
    "    <summary>Hint:</summary>\n",
    "    Remember to reshape the values of the mean testing scores to be a two-dimensional 4x4 grid.\n",
    "</details>"
   ]
  },
  {
   "cell_type": "code",
   "execution_count": 48,
   "metadata": {},
   "outputs": [
    {
     "data": {
      "text/plain": [
       "array([0.  , 1.25, 2.5 , 3.75, 5.  ])"
      ]
     },
     "execution_count": 48,
     "metadata": {},
     "output_type": "execute_result"
    }
   ],
   "source": [
    "x"
   ]
  },
  {
   "cell_type": "code",
   "execution_count": 51,
   "metadata": {},
   "outputs": [],
   "source": [
    "#x = np.linspace(0,5,num=5)\n",
    "#y = np.linspace(0,5,num=5)\n",
    "#[X,Y] = np.meshgrid(x,y)\n",
    "#print(X)\n",
    "#print(Y)\n",
    "#print(X.shape)\n",
    "#print(Y.shape)"
   ]
  },
  {
   "cell_type": "code",
   "execution_count": 52,
   "metadata": {},
   "outputs": [
    {
     "name": "stdout",
     "output_type": "stream",
     "text": [
      "[[0 1 2 3 4]\n",
      " [0 1 2 3 4]\n",
      " [0 1 2 3 4]\n",
      " [0 1 2 3 4]\n",
      " [0 1 2 3 4]]\n",
      "[[0 0 0 0 0]\n",
      " [1 1 1 1 1]\n",
      " [2 2 2 2 2]\n",
      " [3 3 3 3 3]\n",
      " [4 4 4 4 4]]\n",
      "(5, 5)\n",
      "(5, 5)\n"
     ]
    }
   ],
   "source": [
    "#Create a 5x5 grid\n",
    "x, y = np.meshgrid(range(5), range(5))\n",
    "print(x)\n",
    "print(y)\n",
    "print(x.shape)\n",
    "print(y.shape)"
   ]
  },
  {
   "cell_type": "code",
   "execution_count": 53,
   "metadata": {},
   "outputs": [
    {
     "data": {
      "image/png": "[encoded data removed]",
      "text/plain": [
       "<Figure size 432x288 with 1 Axes>"
      ]
     },
     "metadata": {
      "needs_background": "light"
     },
     "output_type": "display_data"
    }
   ],
   "source": [
    "# Set color map to `plt.cm.jet`\n",
    "ax=plt.axes()\n",
    "pcolor=ax.pcolormesh(x,y,grid_search.cv_results_['mean_test_score'].reshape(4,4),cmap=plt.cm.jet)"
   ]
  },
  {
   "cell_type": "code",
   "execution_count": 54,
   "metadata": {
    "eid": "f0c62"
   },
   "outputs": [
    {
     "data": {
      "text/plain": [
       "Text(0, 0.5, 'Y coordinate')"
      ]
     },
     "execution_count": 54,
     "metadata": {},
     "output_type": "execute_result"
    },
    {
     "data": {
      "image/png": "[encoded data removed]",
      "text/plain": [
       "<Figure size 432x288 with 1 Axes>"
      ]
     },
     "metadata": {
      "needs_background": "light"
     },
     "output_type": "display_data"
    }
   ],
   "source": [
    "# Visualize pcolormesh\n",
    "ax=plt.axes()\n",
    "pcolor=ax.pcolormesh(x,y,grid_search.cv_results_['mean_test_score'].reshape(4,4),cmap=plt.cm.jet)\n",
    "ax.set_xlabel('X coordinate')\n",
    "ax.set_ylabel('Y coordinate')"
   ]
  },
  {
   "cell_type": "markdown",
   "metadata": {},
   "source": [
    "________________________________________________________________________________________________________\n",
    "**Conclude which set of hyperparameters to use.**"
   ]
  },
  {
   "cell_type": "code",
   "execution_count": 55,
   "metadata": {},
   "outputs": [],
   "source": [
    "pre=rf.fit(X_train,y_train).predict(X_test)"
   ]
  },
  {
   "cell_type": "code",
   "execution_count": 56,
   "metadata": {},
   "outputs": [],
   "source": [
    "features_response.remove('default payment next month')"
   ]
  },
  {
   "cell_type": "code",
   "execution_count": 57,
   "metadata": {},
   "outputs": [],
   "source": [
    "# Create a dataframe of the feature names and importance\n",
    "a=pd.DataFrame(data=rf.feature_importances_,index=features_response,columns=['importance'])"
   ]
  },
  {
   "cell_type": "code",
   "execution_count": 58,
   "metadata": {},
   "outputs": [
    {
     "data": {
      "text/html": [
       "<div>\n",
       "<style scoped>\n",
       "    .dataframe tbody tr th:only-of-type {\n",
       "        vertical-align: middle;\n",
       "    }\n",
       "\n",
       "    .dataframe tbody tr th {\n",
       "        vertical-align: top;\n",
       "    }\n",
       "\n",
       "    .dataframe thead th {\n",
       "        text-align: right;\n",
       "    }\n",
       "</style>\n",
       "<table border=\"1\" class=\"dataframe\">\n",
       "  <thead>\n",
       "    <tr style=\"text-align: right;\">\n",
       "      <th></th>\n",
       "      <th>importance</th>\n",
       "    </tr>\n",
       "  </thead>\n",
       "  <tbody>\n",
       "    <tr>\n",
       "      <th>MARRIAGE</th>\n",
       "      <td>0.000000</td>\n",
       "    </tr>\n",
       "    <tr>\n",
       "      <th>AGE</th>\n",
       "      <td>0.000000</td>\n",
       "    </tr>\n",
       "    <tr>\n",
       "      <th>BILL_AMT2</th>\n",
       "      <td>0.000000</td>\n",
       "    </tr>\n",
       "    <tr>\n",
       "      <th>BILL_AMT6</th>\n",
       "      <td>0.004252</td>\n",
       "    </tr>\n",
       "    <tr>\n",
       "      <th>EDUCATION</th>\n",
       "      <td>0.004554</td>\n",
       "    </tr>\n",
       "    <tr>\n",
       "      <th>PAY_AMT5</th>\n",
       "      <td>0.006204</td>\n",
       "    </tr>\n",
       "    <tr>\n",
       "      <th>BILL_AMT3</th>\n",
       "      <td>0.007081</td>\n",
       "    </tr>\n",
       "    <tr>\n",
       "      <th>BILL_AMT4</th>\n",
       "      <td>0.011928</td>\n",
       "    </tr>\n",
       "    <tr>\n",
       "      <th>BILL_AMT1</th>\n",
       "      <td>0.011970</td>\n",
       "    </tr>\n",
       "    <tr>\n",
       "      <th>BILL_AMT5</th>\n",
       "      <td>0.018568</td>\n",
       "    </tr>\n",
       "    <tr>\n",
       "      <th>PAY_AMT6</th>\n",
       "      <td>0.018872</td>\n",
       "    </tr>\n",
       "    <tr>\n",
       "      <th>PAY_AMT4</th>\n",
       "      <td>0.019020</td>\n",
       "    </tr>\n",
       "    <tr>\n",
       "      <th>PAY_AMT2</th>\n",
       "      <td>0.024062</td>\n",
       "    </tr>\n",
       "    <tr>\n",
       "      <th>PAY_AMT3</th>\n",
       "      <td>0.033951</td>\n",
       "    </tr>\n",
       "    <tr>\n",
       "      <th>LIMIT_BAL</th>\n",
       "      <td>0.035797</td>\n",
       "    </tr>\n",
       "    <tr>\n",
       "      <th>PAY_AMT1</th>\n",
       "      <td>0.076459</td>\n",
       "    </tr>\n",
       "    <tr>\n",
       "      <th>PAY_1</th>\n",
       "      <td>0.727283</td>\n",
       "    </tr>\n",
       "  </tbody>\n",
       "</table>\n",
       "</div>"
      ],
      "text/plain": [
       "           importance\n",
       "MARRIAGE     0.000000\n",
       "AGE          0.000000\n",
       "BILL_AMT2    0.000000\n",
       "BILL_AMT6    0.004252\n",
       "EDUCATION    0.004554\n",
       "PAY_AMT5     0.006204\n",
       "BILL_AMT3    0.007081\n",
       "BILL_AMT4    0.011928\n",
       "BILL_AMT1    0.011970\n",
       "BILL_AMT5    0.018568\n",
       "PAY_AMT6     0.018872\n",
       "PAY_AMT4     0.019020\n",
       "PAY_AMT2     0.024062\n",
       "PAY_AMT3     0.033951\n",
       "LIMIT_BAL    0.035797\n",
       "PAY_AMT1     0.076459\n",
       "PAY_1        0.727283"
      ]
     },
     "execution_count": 58,
     "metadata": {},
     "output_type": "execute_result"
    }
   ],
   "source": [
    "# Sort values by importance\n",
    "a.sort_values('importance')"
   ]
  },
  {
   "cell_type": "code",
   "execution_count": null,
   "metadata": {},
   "outputs": [],
   "source": []
  }
 ],
 "metadata": {
  "kernelspec": {
   "display_name": "Python 3",
   "language": "python",
   "name": "python3"
  },
  "language_info": {
   "codemirror_mode": {
    "name": "ipython",
    "version": 3
   },
   "file_extension": ".py",
   "mimetype": "text/x-python",
   "name": "python",
   "nbconvert_exporter": "python",
   "pygments_lexer": "ipython3",
   "version": "3.7.6"
  }
 },
 "nbformat": 4,
 "nbformat_minor": 2
}
